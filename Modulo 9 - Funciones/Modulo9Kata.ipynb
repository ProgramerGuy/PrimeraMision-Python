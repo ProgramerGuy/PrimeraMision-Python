{
 "cells": [
  {
   "cell_type": "markdown",
   "metadata": {},
   "source": [
    "#  Ejercicio 1: Trabajar con argumentos en funciones"
   ]
  },
  {
   "cell_type": "code",
   "execution_count": 2,
   "metadata": {},
   "outputs": [
    {
     "name": "stdout",
     "output_type": "stream",
     "text": [
      "\n",
      "    Reporte de combustible:\n",
      "    Tanque 1: 150\n",
      "    Tanque 2: 200\n",
      "    Tanque 3: 300\n",
      "    Promedio de combustible: 216.66666666666666\n",
      "    \n"
     ]
    }
   ],
   "source": [
    "def informe_combustible(tanque1, tanque2, tanque3):\n",
    "    return f'''\n",
    "    Reporte de combustible:\n",
    "    Tanque 1: {tanque1}\n",
    "    Tanque 2: {tanque2}\n",
    "    Tanque 3: {tanque3}\n",
    "    Promedio de combustible: {promedio_combustible(tanque1,tanque2,tanque3)}\n",
    "    '''\n",
    "\n",
    "def promedio_combustible(tanque1, tanque2, tanque3):\n",
    "    return (tanque1 + tanque2 + tanque3) / 3\n",
    "\n",
    "print(informe_combustible(150,200,300))"
   ]
  },
  {
   "cell_type": "markdown",
   "metadata": {},
   "source": [
    "# Ejercicio 2: Trabajo con argumentos de palabra clave"
   ]
  },
  {
   "cell_type": "code",
   "execution_count": 13,
   "metadata": {},
   "outputs": [
    {
     "name": "stdout",
     "output_type": "stream",
     "text": [
      "\n",
      "    Reporte de mision a Moon\n",
      "    El prelanzamiento comienza a las: 14 horas\n",
      "    El tiempo de vuelo sera: 51\n",
      "    Niveles de tanque externo: 200000\n",
      "    Niveles de tanque interno: 300000\n",
      "    \n",
      "\n",
      "    Reporte de mision a Moon\n",
      "    El tiempo de vuelo sera de: 76 minutos\n",
      "    Niveles de combustible: 500000\n",
      "    \n",
      "\n",
      "    Reporte de mision a Moon\n",
      "    El tiempo de vuelo sera de: 76 minutos\n",
      "    Nivel de comustible en tanque main: 300000\n",
      "Nivel de comustible en tanque external: 200000\n",
      "\n"
     ]
    }
   ],
   "source": [
    "def informe_mision(horaPrelanzamiento, tiempoVuelo, destino, tanqueExterno, tanqueInterno):\n",
    "    return f'''\n",
    "    Reporte de mision a {destino}\n",
    "    El prelanzamiento comienza a las: {horaPrelanzamiento} horas\n",
    "    El tiempo de vuelo sera: {tiempoVuelo}\n",
    "    Niveles de tanque externo: {tanqueExterno}\n",
    "    Niveles de tanque interno: {tanqueInterno}\n",
    "    '''\n",
    "\n",
    "print(informe_mision(14, 51, \"Moon\", 200000, 300000))\n",
    "\n",
    "def informe_mision(destino, *minutes, **fuel_reservoirs):\n",
    "    return f\"\"\"\n",
    "    Reporte de mision a {destino}\n",
    "    El tiempo de vuelo sera de: {sum(minutes)} minutos\n",
    "    Niveles de combustible: {sum(fuel_reservoirs.values())}\n",
    "    \"\"\"\n",
    "\n",
    "print(informe_mision(\"Moon\", 10, 15, 51, main=300000, external=200000))\n",
    "\n",
    "def informe_mision(destino, *minutes, **fuel_reservoirs):\n",
    "    reporte = f\"\"\"\n",
    "    Reporte de mision a {destino}\n",
    "    El tiempo de vuelo sera de: {sum(minutes)} minutos\n",
    "    \"\"\"\n",
    "    for title, name in fuel_reservoirs.items():\n",
    "        reporte += f\"Nivel de comustible en tanque {title}: {name}\\n\"\n",
    "    \n",
    "    return reporte\n",
    "\n",
    "\n",
    "print(informe_mision(\"Moon\", 10, 15, 51, main=300000, external=200000))\n"
   ]
  }
 ],
 "metadata": {
  "interpreter": {
   "hash": "57baa5815c940fdaff4d14510622de9616cae602444507ba5d0b6727c008cbd6"
  },
  "kernelspec": {
   "display_name": "Python 3.7.8 64-bit",
   "language": "python",
   "name": "python3"
  },
  "language_info": {
   "codemirror_mode": {
    "name": "ipython",
    "version": 3
   },
   "file_extension": ".py",
   "mimetype": "text/x-python",
   "name": "python",
   "nbconvert_exporter": "python",
   "pygments_lexer": "ipython3",
   "version": "3.7.8"
  },
  "orig_nbformat": 4
 },
 "nbformat": 4,
 "nbformat_minor": 2
}
